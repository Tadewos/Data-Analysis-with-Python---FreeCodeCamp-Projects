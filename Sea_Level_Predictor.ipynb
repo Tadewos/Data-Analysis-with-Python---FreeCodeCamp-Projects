{
  "nbformat": 4,
  "nbformat_minor": 0,
  "metadata": {
    "colab": {
      "name": "Sea Level Predictor.ipynb",
      "provenance": []
    },
    "kernelspec": {
      "name": "python3",
      "display_name": "Python 3"
    },
    "language_info": {
      "name": "python"
    }
  },
  "cells": [
    {
      "cell_type": "code",
      "execution_count": 1,
      "metadata": {
        "id": "oS5-1vantLzn"
      },
      "outputs": [],
      "source": [
        "import pandas as pd\n",
        "import matplotlib.pyplot as plt\n",
        "from scipy.stats import linregress"
      ]
    },
    {
      "cell_type": "code",
      "source": [
        "from google.colab import drive\n",
        "drive.mount('/content/gdrive')"
      ],
      "metadata": {
        "colab": {
          "base_uri": "https://localhost:8080/"
        },
        "id": "lvuy0xEXLxqG",
        "outputId": "0c20e46f-085d-4a7c-b000-a7b170dbe9cb"
      },
      "execution_count": 5,
      "outputs": [
        {
          "output_type": "stream",
          "name": "stdout",
          "text": [
            "Mounted at /content/gdrive\n"
          ]
        }
      ]
    },
    {
      "cell_type": "code",
      "source": [
        "def draw_plot():\n",
        "    # Read data from file\n",
        "  df = pd.read_csv('/content/gdrive/My Drive/Colab Notebooks/FreeCodeCamp/Python Certification - Projects/epa-sea-level.csv')\n",
        "  y = df['CSIRO Adjusted Sea Level']\n",
        "  x = df['Year']\n",
        "    # Create scatter plot\n",
        "  fid, ax = plt.subplots()\n",
        "  plt.scatter(x,y)\n",
        "    # Create first line of best fit\n",
        "  res = linregress(x,y)\n",
        "  print(res)\n",
        "  x_predict = pd.Series([i for i in range(1880,2051)])\n",
        "  y_predict = res.slope*x_predict + res.intercept\n",
        "  plt.plot(x_predict,y_predict,\"r\")\n",
        "\n",
        "    # Create second line of best fit\n",
        "  df2 = df.loc[df['Year'] >= 2000]\n",
        "  x2 = df2['Year']\n",
        "  y2 = df2['CSIRO Adjusted Sea Level']\n",
        "  res2 = linregress(x2, y2)\n",
        "  x_predict2 = pd.Series([i for i in range(2000, 2051)])\n",
        "  y_predict2 = res2.slope*x_predict2 + res2.intercept\n",
        "  plt.plot(x_predict2, y_predict2, 'green')\n",
        "  \n",
        "    # Add labels and title\n",
        "  ax.set_xlabel('Year')\n",
        "  ax.set_ylabel('Sea Level (inches)')\n",
        "  ax.set_title('Rise in Sea Level')\n",
        "    \n",
        "    # Save plot and return data for testing (DO NOT MODIFY)\n",
        "  plt.savefig('sea_level_plot.png')\n",
        "  return plt.gca()"
      ],
      "metadata": {
        "id": "5Cjw-VG2LRC7"
      },
      "execution_count": 8,
      "outputs": []
    },
    {
      "cell_type": "markdown",
      "source": [
        "Main"
      ],
      "metadata": {
        "id": "6bNYzpI3Laaz"
      }
    },
    {
      "cell_type": "code",
      "source": [
        "# Test your function by calling it here\n",
        "draw_plot()"
      ],
      "metadata": {
        "colab": {
          "base_uri": "https://localhost:8080/",
          "height": 350
        },
        "id": "LcMcP_jfLbVd",
        "outputId": "a01343ea-6b4f-44f8-ee7f-57b7148033a1"
      },
      "execution_count": 9,
      "outputs": [
        {
          "output_type": "stream",
          "name": "stdout",
          "text": [
            "LinregressResult(slope=0.0630445840121348, intercept=-119.06594196773978, rvalue=0.984757131182585, pvalue=3.7886969791131554e-102, stderr=0.000969211871328715)\n"
          ]
        },
        {
          "output_type": "execute_result",
          "data": {
            "text/plain": [
              "<matplotlib.axes._subplots.AxesSubplot at 0x7f16d225bf10>"
            ]
          },
          "metadata": {},
          "execution_count": 9
        },
        {
          "output_type": "display_data",
          "data": {
            "text/plain": [
              "<Figure size 432x288 with 1 Axes>"
            ],
            "image/png": "[encoded data removed]"
          },
          "metadata": {
            "needs_background": "light"
          }
        }
      ]
    }
  ]
}