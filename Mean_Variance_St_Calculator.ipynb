{
  "nbformat": 4,
  "nbformat_minor": 0,
  "metadata": {
    "colab": {
      "name": "Mean-Variance-St Calculator.ipynb",
      "provenance": []
    },
    "kernelspec": {
      "name": "python3",
      "display_name": "Python 3"
    },
    "language_info": {
      "name": "python"
    }
  },
  "cells": [
    {
      "cell_type": "markdown",
      "source": [
        "## Mean-Variance-Standard Deviation Calculator"
      ],
      "metadata": {
        "id": "B0r3pFHbywzj"
      }
    },
    {
      "cell_type": "code",
      "execution_count": null,
      "metadata": {
        "colab": {
          "base_uri": "https://localhost:8080/"
        },
        "id": "LmNquz6-yqXm",
        "outputId": "c9344435-624f-485b-9789-08c4083299c0"
      },
      "outputs": [
        {
          "output_type": "stream",
          "name": "stdout",
          "text": [
            "Enter elements of a list separated by space: 0 1 2 3 4 5 6 7 8\n",
            "\n",
            "\n",
            "You have entered:  ['0', '1', '2', '3', '4', '5', '6', '7', '8']\n"
          ]
        },
        {
          "output_type": "stream",
          "name": "stderr",
          "text": [
            "/usr/local/lib/python3.7/dist-packages/ipykernel_launcher.py:7: DeprecationWarning: `np.float` is a deprecated alias for the builtin `float`. To silence this warning, use `float` by itself. Doing this will not modify any behavior and is safe. If you specifically wanted the numpy scalar type, use `np.float64` here.\n",
            "Deprecated in NumPy 1.20; for more details and guidance: https://numpy.org/devdocs/release/1.20.0-notes.html#deprecations\n",
            "  import sys\n"
          ]
        },
        {
          "output_type": "execute_result",
          "data": {
            "text/plain": [
              "({'mean': [[3.0, 4.0, 5.0], [1.0, 4.0, 7.0], 4.0],\n",
              "  'standard deviation': [[2.449489742783178,\n",
              "    2.449489742783178,\n",
              "    2.449489742783178],\n",
              "   [0.816496580927726, 0.816496580927726, 0.816496580927726],\n",
              "   2.581988897471611],\n",
              "  'variance': [[6.0, 6.0, 6.0],\n",
              "   [0.6666666666666666, 0.6666666666666666, 0.6666666666666666],\n",
              "   6.666666666666667]},\n",
              " array([[0., 1., 2.],\n",
              "        [3., 4., 5.],\n",
              "        [6., 7., 8.]]))"
            ]
          },
          "metadata": {},
          "execution_count": 11
        }
      ],
      "source": [
        "def calculate(x):\n",
        "  import numpy as np\n",
        "\n",
        "  if len(x) != 9:\n",
        "    return \"List must have 9 elements! Try again.\"\n",
        "\n",
        "  t = np.array(x).reshape(3,3).astype(np.float)\n",
        "\n",
        "  calculations = dict.fromkeys(['mean', 'variance', 'standard deviation'])\n",
        "\n",
        "  calculations['mean'] = [t.mean(0).tolist(), t.mean(1).tolist(), t.mean().tolist()]\n",
        "\n",
        "  calculations['standard deviation'] = [t.std(0).tolist(), t.std(1).tolist(), t.std().tolist()]\n",
        "    \n",
        "  calculations['variance'] = [t.var(0).tolist(), t.var(1).tolist(), t.var().tolist()]\n",
        "  \n",
        "  return calculations, t\n",
        "\n",
        "\n",
        "x = input('Enter elements of a list separated by space: ')\n",
        "print(\"\\n\")         #new line\n",
        "\n",
        "user_list = x.split()\n",
        "# print list\n",
        "print('You have entered: ', user_list)\n",
        "\n",
        "calculate(user_list)"
      ]
    },
    {
      "cell_type": "code",
      "source": [
        "1"
      ],
      "metadata": {
        "id": "tI_B1sG6z_rR"
      },
      "execution_count": null,
      "outputs": []
    }
  ]
}